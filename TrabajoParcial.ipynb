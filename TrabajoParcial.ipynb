{
 "cells": [
  {
   "cell_type": "markdown",
   "metadata": {},
   "source": [
    "# Conseguir antlr"
   ]
  },
  {
   "cell_type": "markdown",
   "metadata": {},
   "source": [
    "Para google colab:"
   ]
  },
  {
   "cell_type": "code",
   "execution_count": 1,
   "metadata": {},
   "outputs": [],
   "source": [
    "# !curl -O https://www.antlr.org/download/antlr-4.13.2-complete.jar &> /dev/null"
   ]
  },
  {
   "cell_type": "markdown",
   "metadata": {},
   "source": [
    "Para VSC:"
   ]
  },
  {
   "cell_type": "code",
   "execution_count": 2,
   "metadata": {
    "id": "WdtvtMKD3LFo"
   },
   "outputs": [
    {
     "data": {
      "text/plain": [
       "('antlr-4.13.2-complete.jar', <http.client.HTTPMessage at 0x21b5a2be570>)"
      ]
     },
     "execution_count": 2,
     "metadata": {},
     "output_type": "execute_result"
    }
   ],
   "source": [
    "import urllib.request\n",
    "\n",
    "url = \"https://www.antlr.org/download/antlr-4.13.2-complete.jar\"\n",
    "urllib.request.urlretrieve(url, \"antlr-4.13.2-complete.jar\")"
   ]
  },
  {
   "cell_type": "code",
   "execution_count": 3,
   "metadata": {
    "colab": {
     "base_uri": "https://localhost:8080/"
    },
    "id": "JuLYWfTN4SQ3",
    "outputId": "6434782c-0266-407e-934c-36febe6213db"
   },
   "outputs": [
    {
     "name": "stdout",
     "output_type": "stream",
     "text": [
      "Defaulting to user installation because normal site-packages is not writeable\n",
      "Requirement already satisfied: antlr4-python3-runtime in c:\\users\\daniel\\appdata\\roaming\\python\\python312\\site-packages (4.13.2)\n"
     ]
    }
   ],
   "source": [
    "# se utiliza en vsc y collab\n",
    "\n",
    "!pip install -U antlr4-python3-runtime"
   ]
  },
  {
   "cell_type": "markdown",
   "metadata": {},
   "source": [
    "# Gramática"
   ]
  },
  {
   "cell_type": "code",
   "execution_count": 4,
   "metadata": {
    "colab": {
     "base_uri": "https://localhost:8080/"
    },
    "id": "gEUvKDOu3RfC",
    "outputId": "a142c98a-eb2f-4389-8cef-660b3c00c456"
   },
   "outputs": [
    {
     "name": "stdout",
     "output_type": "stream",
     "text": [
      "Overwriting trabajoparcial.g4\n"
     ]
    }
   ],
   "source": [
    "%%file trabajoparcial.g4\n",
    "grammar trabajoparcial;\n",
    "\n",
    "// Parser rules\n",
    "prog: stmt* ;\n",
    "\n",
    "stmt: expr ;\n",
    "\n",
    "expr\n",
    "    : expr '^' expr                # PowExpr\n",
    "    | '-' expr                     # NegExpr\n",
    "    | expr ('*' | '/' | '%') expr  # MulDivExpr\n",
    "    | expr ('+' | '-') expr        # AddSubExpr\n",
    "    | func '(' expr ')'            # FuncExpr\n",
    "    | integral                     # IntegralExpr\n",
    "    | integralIndef                # IntegralIndefExpr\n",
    "    | deriv                        # DerivExpr\n",
    "    | derivDef                     # DerivDefExpr\n",
    "    | NUM                          # NumExpr\n",
    "    | ID                           # IdExpr\n",
    "    | '(' expr ')'                 # ParenExpr\n",
    "    ;\n",
    "\n",
    "// Funciones matemáticas soportadas\n",
    "func: FUNC ;\n",
    "\n",
    "INTEGRAL: 'integral';\n",
    "DERIV: 'deriv';\n",
    "FUNC: 'sin' | 'cos' | 'tan' | 'log' | 'exp';\n",
    "ID    : [a-zA-Z_][a-zA-Z_0-9]* ;\n",
    "NUM   : [0-9]+ ('.' [0-9]+)? ;\n",
    "\n",
    "// Definite integral: integral(a, b, expr)\n",
    "integral: INTEGRAL LPAR expr ',' expr ',' expr RPAR ;\n",
    "\n",
    "// Indefinite integral: integral(expr, var)\n",
    "integralIndef: INTEGRAL LPAR expr ',' ID RPAR ;\n",
    "\n",
    "// Derivative: deriv(expr, var)\n",
    "deriv: DERIV LPAR expr ',' ID RPAR ;\n",
    "\n",
    "// Definite derivative: deriv(a, b, expr, var)\n",
    "derivDef: DERIV LPAR expr ',' expr ',' expr ',' ID RPAR ;\n",
    "\n",
    "ADD   : '+' ;\n",
    "SUB   : '-' ;\n",
    "MUL   : '*' ;\n",
    "DIV   : '/' ;\n",
    "MOD   : '%' ;\n",
    "POW   : '^' ;\n",
    "LPAR  : '(' ;\n",
    "RPAR  : ')' ;\n",
    "\n",
    "WS    : [ \\t\\r\\n]+ -> skip ;"
   ]
  },
  {
   "cell_type": "code",
   "execution_count": 5,
   "metadata": {
    "colab": {
     "base_uri": "https://localhost:8080/"
    },
    "id": "a6s3CnHl4A-B",
    "outputId": "2daf8d9b-8b75-4b8a-c172-d537f0c133d6"
   },
   "outputs": [
    {
     "name": "stdout",
     "output_type": "stream",
     "text": [
      "Overwriting ej1.xyz\n"
     ]
    }
   ],
   "source": [
    "%%file ej1.xyz\n",
    "sin(3.14/2)\n",
    "integral(0, 1, x^2 + 2*x + 1)\n",
    "integral(x^2 + 2*x + 1, x)\n",
    "deriv(x^2 + 2*x + 1, x)\n",
    "deriv(0, 1, x^2 + 2*x + 1, x)\n",
    "sin(deriv(x^2, x)) + integral(0, 2, x)"
   ]
  },
  {
   "cell_type": "markdown",
   "metadata": {},
   "source": [
    "# Crear archivos para el entorno de antlr"
   ]
  },
  {
   "cell_type": "markdown",
   "metadata": {},
   "source": [
    "Para google collab"
   ]
  },
  {
   "cell_type": "code",
   "execution_count": 6,
   "metadata": {
    "id": "k1Il718i4-in"
   },
   "outputs": [],
   "source": [
    "# !java -cp .:antlr-4.13.2-complete.jar org.antlr.v4.Tool trabajoparcial.g4 -Dlanguage=Python3"
   ]
  },
  {
   "cell_type": "markdown",
   "metadata": {},
   "source": [
    "Para VSC"
   ]
  },
  {
   "cell_type": "markdown",
   "metadata": {},
   "source": [
    "Instalar Java. [página](https://www.oracle.com/java/technologies/downloads/#jdk25-windows) y seleccionamos el [instalador](https://download.oracle.com/java/25/latest/jdk-25_windows-x64_bin.exe ). Cambiamos el : por ;"
   ]
  },
  {
   "cell_type": "code",
   "execution_count": 7,
   "metadata": {},
   "outputs": [],
   "source": [
    "!java -cp .;antlr-4.13.2-complete.jar org.antlr.v4.Tool trabajoparcial.g4 -Dlanguage=Python3"
   ]
  },
  {
   "cell_type": "markdown",
   "metadata": {},
   "source": [
    "# Ejecucción"
   ]
  },
  {
   "cell_type": "code",
   "execution_count": 8,
   "metadata": {
    "id": "b_7WLqyMVxAb"
   },
   "outputs": [],
   "source": [
    "from antlr4 import *\n",
    "from trabajoparcialLexer import trabajoparcialLexer\n",
    "from trabajoparcialParser import trabajoparcialParser"
   ]
  },
  {
   "cell_type": "code",
   "execution_count": 9,
   "metadata": {
    "colab": {
     "base_uri": "https://localhost:8080/"
    },
    "id": "lZyDJDWN5Qi9",
    "outputId": "aae347f9-ab86-4911-871e-d6b5039d6dec"
   },
   "outputs": [
    {
     "name": "stdout",
     "output_type": "stream",
     "text": [
      "(prog (stmt (expr (func sin) ( (expr (expr 3.14) / (expr 2)) ))) (stmt (expr (integral integral ( (expr 0) , (expr 1) , (expr (expr (expr (expr x) ^ (expr 2)) + (expr (expr 2) * (expr x))) + (expr 1)) )))) (stmt (expr (integralIndef integral ( (expr (expr (expr (expr x) ^ (expr 2)) + (expr (expr 2) * (expr x))) + (expr 1)) , x )))) (stmt (expr (deriv deriv ( (expr (expr (expr (expr x) ^ (expr 2)) + (expr (expr 2) * (expr x))) + (expr 1)) , x )))) (stmt (expr (derivDef deriv ( (expr 0) , (expr 1) , (expr (expr (expr (expr x) ^ (expr 2)) + (expr (expr 2) * (expr x))) + (expr 1)) , x )))) (stmt (expr (expr (func sin) ( (expr (deriv deriv ( (expr (expr x) ^ (expr 2)) , x ))) )) + (expr (integral integral ( (expr 0) , (expr 2) , (expr x) ))))))\n"
     ]
    }
   ],
   "source": [
    "lexer = trabajoparcialLexer(FileStream('ej1.xyz'))\n",
    "stream = CommonTokenStream(lexer)\n",
    "parser = trabajoparcialParser(stream)\n",
    "tree = parser.prog()\n",
    "strTree = tree.toStringTree(recog=parser)\n",
    "print(strTree)"
   ]
  },
  {
   "cell_type": "code",
   "execution_count": 10,
   "metadata": {
    "id": "jB01o-t2YEGI"
   },
   "outputs": [],
   "source": [
    "from trabajoparcialListener import trabajoparcialListener\n",
    "\n",
    "class MyListener(trabajoparcialListener):\n",
    "\n",
    "    def enterProg(self, ctx:trabajoparcialParser.ProgContext):\n",
    "        print(\"Entramos a la regla prog\")\n",
    "\n",
    "    def exitProg(self, ctx:trabajoparcialParser.ProgContext):\n",
    "        print(\"Salimos de la regla prog\")\n",
    "\n",
    "    def enterStmt(self, ctx:trabajoparcialParser.StmtContext):\n",
    "        print(\"Entramos a la regla stmt\")\n",
    "\n",
    "    def exitStmt(self, ctx:trabajoparcialParser.StmtContext):\n",
    "        print(\"Saliendo de la regla stmt\")\n",
    "\n",
    "    def enterExpr(self, ctx:trabajoparcialParser.ExprContext):\n",
    "        print(\"Entramos a la regla expr\", ctx.getText())\n",
    "\n",
    "    def exitExpr(self, ctx:trabajoparcialParser.ExprContext):\n",
    "        print(\"Saliendo de la regla expr\")"
   ]
  },
  {
   "cell_type": "code",
   "execution_count": 11,
   "metadata": {
    "colab": {
     "base_uri": "https://localhost:8080/"
    },
    "id": "vFPmGBO0aagM",
    "outputId": "7d7a88f1-978b-45ba-ba68-d3bcda6c713d"
   },
   "outputs": [
    {
     "name": "stdout",
     "output_type": "stream",
     "text": [
      "Entramos a la regla prog\n",
      "Entramos a la regla stmt\n",
      "Saliendo de la regla stmt\n",
      "Entramos a la regla stmt\n",
      "Saliendo de la regla stmt\n",
      "Entramos a la regla stmt\n",
      "Saliendo de la regla stmt\n",
      "Entramos a la regla stmt\n",
      "Saliendo de la regla stmt\n",
      "Entramos a la regla stmt\n",
      "Saliendo de la regla stmt\n",
      "Entramos a la regla stmt\n",
      "Saliendo de la regla stmt\n",
      "Salimos de la regla prog\n"
     ]
    }
   ],
   "source": [
    "lexer = trabajoparcialLexer(FileStream('ej1.xyz'))\n",
    "stream = CommonTokenStream(lexer)\n",
    "parser = trabajoparcialParser(stream)\n",
    "tree = parser.prog()\n",
    "walker = ParseTreeWalker()\n",
    "walker.walk(MyListener(), tree);"
   ]
  },
  {
   "cell_type": "markdown",
   "metadata": {},
   "source": [
    "# Visitor"
   ]
  },
  {
   "cell_type": "code",
   "execution_count": 12,
   "metadata": {},
   "outputs": [],
   "source": [
    "!java -cp .;antlr-4.13.2-complete.jar org.antlr.v4.Tool trabajoparcial.g4 -no-listener -visitor -Dlanguage=Python3"
   ]
  },
  {
   "cell_type": "code",
   "execution_count": 13,
   "metadata": {},
   "outputs": [],
   "source": [
    "# Implementación básica de Visitor para la gramática trabajoparcial\n",
    "from antlr4 import *\n",
    "from trabajoparcialLexer import trabajoparcialLexer\n",
    "from trabajoparcialParser import trabajoparcialParser\n",
    "from trabajoparcialVisitor import trabajoparcialVisitor"
   ]
  },
  {
   "cell_type": "code",
   "execution_count": 14,
   "metadata": {},
   "outputs": [
    {
     "name": "stdout",
     "output_type": "stream",
     "text": [
      "Overwriting Visitor.py\n"
     ]
    }
   ],
   "source": [
    "%%writefile Visitor.py\n",
    "if __name__ is not None and \".\" in __name__:\n",
    "    from .trabajoparcialParser import trabajoparcialParser\n",
    "    from .trabajoparcialVisitor import trabajoparcialVisitor\n",
    "else:\n",
    "    from trabajoparcialParser import trabajoparcialParser\n",
    "    from trabajoparcialVisitor import trabajoparcialVisitor\n",
    "    \n",
    "class Visitor(trabajoparcialVisitor):\n",
    "    def visitProg(self, ctx):\n",
    "        print(\"visitProg\")\n",
    "        for stmt in ctx.stmt():\n",
    "            self.visit(stmt)\n",
    "\n",
    "    def visitStmt(self, ctx):\n",
    "        print(\"visitStmt\")\n",
    "        resultado = self.visit(ctx.expr())\n",
    "        print(f\"Resultado de la expresión: {resultado}\")\n",
    "        \n",
    "    def visitExprAction(self, ctx):\n",
    "        resultado = self.visit(ctx.expr())\n",
    "        print(resultado)\n",
    "        return resultado\n",
    "\n",
    "    def visitNumExpr(self, ctx):\n",
    "        print(f\"visitNumExpr: {ctx.NUM().getText()}\")\n",
    "        return float(ctx.NUM().getText())\n",
    "\n",
    "    def visitIdExpr(self, ctx):\n",
    "        print(f\"visitIdExpr: {ctx.ID().getText()}\")\n",
    "        return ctx.ID().getText()\n",
    "\n",
    "    def visitAddSubExpr(self, ctx):\n",
    "        left = self.visit(ctx.expr(0))\n",
    "        right = self.visit(ctx.expr(1))\n",
    "        op = ctx.getChild(1).getText()\n",
    "        resultado = left + right if op == '+' else left - right\n",
    "        print(f\"Evaluando: {left} {op} {right} = {resultado}\")\n",
    "        return resultado\n",
    "\n",
    "    def visitMulDivExpr(self, ctx):\n",
    "        left = self.visit(ctx.expr(0))\n",
    "        right = self.visit(ctx.expr(1))\n",
    "        op = ctx.getChild(1).getText()\n",
    "        if op == '*':\n",
    "            resultado = left * right\n",
    "        elif op == '/':\n",
    "            resultado = left / right\n",
    "        else:\n",
    "            resultado = left % right\n",
    "        print(f\"Evaluando: {left} {op} {right} = {resultado}\")\n",
    "        return resultado\n",
    "\n",
    "    def visitPowExpr(self, ctx):\n",
    "        left = self.visit(ctx.expr(0))\n",
    "        right = self.visit(ctx.expr(1))\n",
    "        resultado = left ** right\n",
    "        print(f\"Evaluando: {left} ^ {right} = {resultado}\")\n",
    "        return resultado\n",
    "\n",
    "    def visitNegExpr(self, ctx):\n",
    "        valor = self.visit(ctx.expr())\n",
    "        resultado = -valor\n",
    "        print(f\"Evaluando: -{valor} = {resultado}\")\n",
    "        return resultado\n",
    "\n",
    "    def visitParenExpr(self, ctx):\n",
    "        print(\"visitParenExpr\")\n",
    "        return self.visit(ctx.expr())\n",
    "\n",
    "    def visitFuncExpr(self, ctx):\n",
    "        import math\n",
    "        func = ctx.func().getText()\n",
    "        arg = self.visit(ctx.expr())\n",
    "        if func == 'sin':\n",
    "            resultado = math.sin(arg)\n",
    "        elif func == 'cos':\n",
    "            resultado = math.cos(arg)\n",
    "        elif func == 'tan':\n",
    "            resultado = math.tan(arg)\n",
    "        elif func == 'log':\n",
    "            resultado = math.log(arg)\n",
    "        elif func == 'exp':\n",
    "            resultado = math.exp(arg)\n",
    "        else:\n",
    "            raise Exception(f'Función no soportada: {func}')\n",
    "        print(f\"Evaluando: {func}({arg}) = {resultado}\")\n",
    "        return resultado\n",
    "\n",
    "    def visitIntegralExpr(self, ctx):\n",
    "        print(\"visitIntegralExpr\")\n",
    "        # Acceso correcto a los hijos según la gramática\n",
    "        a = self.visit(ctx.expr(0))\n",
    "        b = self.visit(ctx.expr(1))\n",
    "        expr = ctx.expr(2).getText()\n",
    "        print(f'Integral definida de {expr} desde {a} hasta {b}')\n",
    "        return None\n",
    "\n",
    "    def visitIntegralIndefExpr(self, ctx):\n",
    "        print(\"visitIntegralIndefExpr\")\n",
    "        expr = ctx.expr(0).getText()\n",
    "        var = ctx.ID().getText()\n",
    "        print(f'Integral indefinida de {expr} respecto a {var}')\n",
    "        return None\n",
    "\n",
    "    def visitDerivExpr(self, ctx):\n",
    "        print(\"visitDerivExpr\")\n",
    "        expr = ctx.expr(0).getText()\n",
    "        var = ctx.ID().getText()\n",
    "        print(f'Derivada de {expr} respecto a {var}')\n",
    "        return None\n",
    "\n",
    "    def visitDerivDefExpr(self, ctx):\n",
    "        print(\"visitDerivDefExpr\")\n",
    "        a = self.visit(ctx.expr(0))\n",
    "        b = self.visit(ctx.expr(1))\n",
    "        expr = ctx.expr(2).getText()\n",
    "        var = ctx.ID().getText()\n",
    "        print(f'Derivada definida de {expr} respecto a {var} entre {a} y {b}')\n",
    "        return None\n"
   ]
  },
  {
   "cell_type": "code",
   "execution_count": 15,
   "metadata": {},
   "outputs": [
    {
     "name": "stdout",
     "output_type": "stream",
     "text": [
      "Overwriting ej1.xyz\n"
     ]
    }
   ],
   "source": [
    "%%writefile ej1.xyz\n",
    "sin(3.14/2)"
   ]
  },
  {
   "cell_type": "code",
   "execution_count": 18,
   "metadata": {},
   "outputs": [],
   "source": [
    "from antlr4 import *\n",
    "from trabajoparcialLexer import trabajoparcialLexer\n",
    "from trabajoparcialParser import trabajoparcialParser\n",
    "\n",
    "from Visitor import Visitor\n",
    "import sys\n",
    "\n",
    "input_stream = FileStream('ej1.xyz')\n",
    "\n",
    "lexer = trabajoparcialLexer(input_stream)\n",
    "token_stream = CommonTokenStream(lexer)\n",
    "parser = trabajoparcialParser(token_stream)\n",
    "\n",
    "tree = parser.prog()\n",
    "\n",
    "visitor = Visitor()\n",
    "visitor.visit(tree)"
   ]
  }
 ],
 "metadata": {
  "colab": {
   "provenance": []
  },
  "kernelspec": {
   "display_name": "Python 3",
   "name": "python3"
  },
  "language_info": {
   "codemirror_mode": {
    "name": "ipython",
    "version": 3
   },
   "file_extension": ".py",
   "mimetype": "text/x-python",
   "name": "python",
   "nbconvert_exporter": "python",
   "pygments_lexer": "ipython3",
   "version": "3.12.6"
  }
 },
 "nbformat": 4,
 "nbformat_minor": 0
}
